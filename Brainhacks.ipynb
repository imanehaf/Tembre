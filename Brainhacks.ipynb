{
 "metadata": {
  "name": "",
  "signature": "sha256:7307930ec353d248e31593945701107db3fb428135fe39063bbcc3f3bc65cc34"
 },
 "nbformat": 3,
 "nbformat_minor": 0,
 "worksheets": [
  {
   "cells": [
    {
     "cell_type": "markdown",
     "metadata": {},
     "source": [
      "###BrainHacks: PCA and K-means\n",
      "\n",
      "In the first part of the code, PCA was applied to the data. The data was previously z-scored. This particular data was masked using the \"*Harvox Heschls*\" mask and then processed."
     ]
    },
    {
     "cell_type": "code",
     "collapsed": false,
     "input": [
      "#PCA\n",
      "d=np.load(\"dataMask2.npy\")\n",
      "pca = PCA(n_components=2)\n",
      "pca.fit(d)\n",
      "dpca=pca.transform(d)\n",
      "\n",
      "plt.scatter(dpca[:,0], dpca[:,1], marker='o', color='b')"
     ],
     "language": "python",
     "metadata": {},
     "outputs": [
      {
       "ename": "NameError",
       "evalue": "name 'np' is not defined",
       "output_type": "pyerr",
       "traceback": [
        "\u001b[1;31m---------------------------------------------------------------------------\u001b[0m\n\u001b[1;31mNameError\u001b[0m                                 Traceback (most recent call last)",
        "\u001b[1;32m<ipython-input-1-ce4662333757>\u001b[0m in \u001b[0;36m<module>\u001b[1;34m()\u001b[0m\n\u001b[0;32m      1\u001b[0m \u001b[1;31m#PCA\u001b[0m\u001b[1;33m\u001b[0m\u001b[1;33m\u001b[0m\u001b[0m\n\u001b[1;32m----> 2\u001b[1;33m \u001b[0md\u001b[0m\u001b[1;33m=\u001b[0m\u001b[0mnp\u001b[0m\u001b[1;33m.\u001b[0m\u001b[0mload\u001b[0m\u001b[1;33m(\u001b[0m\u001b[1;34m\"dataMask2.npy\"\u001b[0m\u001b[1;33m)\u001b[0m\u001b[1;33m\u001b[0m\u001b[0m\n\u001b[0m\u001b[0;32m      3\u001b[0m \u001b[0mpca\u001b[0m \u001b[1;33m=\u001b[0m \u001b[0mPCA\u001b[0m\u001b[1;33m(\u001b[0m\u001b[0mn_components\u001b[0m\u001b[1;33m=\u001b[0m\u001b[1;36m2\u001b[0m\u001b[1;33m)\u001b[0m\u001b[1;33m\u001b[0m\u001b[0m\n\u001b[0;32m      4\u001b[0m \u001b[0mpca\u001b[0m\u001b[1;33m.\u001b[0m\u001b[0mfit\u001b[0m\u001b[1;33m(\u001b[0m\u001b[0md\u001b[0m\u001b[1;33m)\u001b[0m\u001b[1;33m\u001b[0m\u001b[0m\n\u001b[0;32m      5\u001b[0m \u001b[0mdpca\u001b[0m\u001b[1;33m=\u001b[0m\u001b[0mpca\u001b[0m\u001b[1;33m.\u001b[0m\u001b[0mtransform\u001b[0m\u001b[1;33m(\u001b[0m\u001b[0md\u001b[0m\u001b[1;33m)\u001b[0m\u001b[1;33m\u001b[0m\u001b[0m\n",
        "\u001b[1;31mNameError\u001b[0m: name 'np' is not defined"
       ]
      }
     ],
     "prompt_number": 1
    },
    {
     "cell_type": "markdown",
     "metadata": {},
     "source": [
      "* Using only two components, we can distinguish 5 perfectly separated clusters.  \n",
      "The next step is to see what covariates match with these clusters."
     ]
    },
    {
     "cell_type": "markdown",
     "metadata": {},
     "source": [
      "- We applied k-means with two-clusters to see if they may match with the musician/non-musician covariate  "
     ]
    },
    {
     "cell_type": "code",
     "collapsed": false,
     "input": [
      "#K-means\n",
      "idx, ctrs = kmeans(dpca, 2)\n",
      "\n",
      "plt.scatter(dpca[(idx==0),0], dpca[(idx==0),1], marker='o', color='r')\n",
      "plt.scatter(dpca[(idx==1),0], dpca[(idx==1),1], marker='o', color='b')\n",
      "plt.scatter(ctrs[:,0], ctrs[:,1], marker='o', color='k', linewidths=5)"
     ],
     "language": "python",
     "metadata": {},
     "outputs": [
      {
       "metadata": {},
       "output_type": "pyout",
       "prompt_number": 4,
       "text": [
        "<matplotlib.collections.PathCollection at 0x14ada4a8>"
       ]
      },
      {
       "metadata": {},
       "output_type": "display_data",
       "png": "[encoded data removed]",
       "text": [
        "<matplotlib.figure.Figure at 0x99057b8>"
       ]
      }
     ],
     "prompt_number": 4
    },
    {
     "cell_type": "code",
     "collapsed": false,
     "input": [
      "#...work in pregress (Imane, do this next)"
     ],
     "language": "python",
     "metadata": {},
     "outputs": []
    }
   ],
   "metadata": {}
  }
 ]
}