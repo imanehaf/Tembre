{
 "metadata": {
  "name": "",
  "signature": "sha256:ccf9c726771d523c474fd0a26ddce8b1b4e3c665ce3fc6d4f6e556dbc8590d93"
 },
 "nbformat": 3,
 "nbformat_minor": 0,
 "worksheets": [
  {
   "cells": [
    {
     "cell_type": "code",
     "collapsed": false,
     "input": [
      "import pandas as pd"
     ],
     "language": "python",
     "metadata": {},
     "outputs": [],
     "prompt_number": 49
    },
    {
     "cell_type": "code",
     "collapsed": false,
     "input": [
      "d=pd.Series([2,3,5,3],"
     ],
     "language": "python",
     "metadata": {},
     "outputs": []
    }
   ],
   "metadata": {}
  }
 ]
}